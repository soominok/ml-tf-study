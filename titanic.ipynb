{
 "cells": [
  {
   "cell_type": "code",
   "execution_count": 1,
   "metadata": {},
   "outputs": [
    {
     "ename": "ModuleNotFoundError",
     "evalue": "No module named 'com_sba_api'",
     "output_type": "error",
     "traceback": [
      "\u001b[0;31m---------------------------------------------------------------------------\u001b[0m",
      "\u001b[0;31mModuleNotFoundError\u001b[0m                       Traceback (most recent call last)",
      "\u001b[0;32m<ipython-input-1-a427b1836046>\u001b[0m in \u001b[0;36m<module>\u001b[0;34m\u001b[0m\n\u001b[1;32m      1\u001b[0m \u001b[0;32mimport\u001b[0m \u001b[0mos\u001b[0m\u001b[0;34m\u001b[0m\u001b[0;34m\u001b[0m\u001b[0m\n\u001b[1;32m      2\u001b[0m \u001b[0;34m\u001b[0m\u001b[0m\n\u001b[0;32m----> 3\u001b[0;31m \u001b[0;32mfrom\u001b[0m \u001b[0mcom_sba_api\u001b[0m\u001b[0;34m.\u001b[0m\u001b[0mutil\u001b[0m\u001b[0;34m.\u001b[0m\u001b[0mfile_handler\u001b[0m \u001b[0;32mimport\u001b[0m \u001b[0mFileReader\u001b[0m\u001b[0;34m\u001b[0m\u001b[0;34m\u001b[0m\u001b[0m\n\u001b[0m\u001b[1;32m      4\u001b[0m \u001b[0;32mimport\u001b[0m \u001b[0mpandas\u001b[0m \u001b[0;32mas\u001b[0m \u001b[0mpd\u001b[0m\u001b[0;34m\u001b[0m\u001b[0;34m\u001b[0m\u001b[0m\n\u001b[1;32m      5\u001b[0m \u001b[0;32mimport\u001b[0m \u001b[0mnumpy\u001b[0m \u001b[0;32mas\u001b[0m \u001b[0mnp\u001b[0m\u001b[0;34m\u001b[0m\u001b[0;34m\u001b[0m\u001b[0m\n",
      "\u001b[0;31mModuleNotFoundError\u001b[0m: No module named 'com_sba_api'"
     ]
    }
   ],
   "source": [
    "import os\n",
    "\n",
    "from com_sba_api.util.file_handler import FileReader\n",
    "import pandas as pd\n",
    "import numpy as np\n",
    "from sklearn.ensemble import RandomForestClassifier # rforest\n",
    "from sklearn.tree import DecisionTreeClassifier # dtree\n",
    "from sklearn.ensemble import RandomForestClassifier # rforest\n",
    "from sklearn.naive_bayes import GaussianNB # nb\n",
    "from sklearn.neighbors import KNeighborsClassifier # knn\n",
    "from sklearn.svm import SVC # svm\n",
    "from sklearn.model_selection import train_test_split\n",
    "from sklearn.model_selection import KFold  # k value is understood as count\n",
    "from sklearn.model_selection import cross_val_score\n",
    "\n",
    "from pathlib import Path\n",
    "\n",
    "class UserService:\n",
    "    def __init__(self):\n",
    "        self.fileReader = FileReader()  \n",
    "        self.data = os.path.abspath(\"data\")\n",
    "        \n",
    "        self.odf = None\n",
    "\n",
    "    def hook(self):\n",
    "        train = 'train.csv'\n",
    "        test = 'test.csv'\n",
    "        this = self.fileReader\n",
    "        this.train = self.new_model(train) # payload\n",
    "        this.test = self.new_model(test) # payload\n",
    "        \n",
    "        '''\n",
    "        Original Model Generation\n",
    "        '''\n",
    "        self.odf = pd.DataFrame(\n",
    "\n",
    "            {\n",
    "             'userid' : this.train.PassengerId,\n",
    "             'password' : '1',\n",
    "             'name' : this.train.Name\n",
    "             }\n",
    "        )\n",
    "        \n",
    "        print(self.odf)"
   ]
  },
  {
   "cell_type": "code",
   "execution_count": null,
   "metadata": {},
   "outputs": [],
   "source": []
  }
 ],
 "metadata": {
  "kernelspec": {
   "display_name": "Python 3",
   "language": "python",
   "name": "python3"
  },
  "language_info": {
   "codemirror_mode": {
    "name": "ipython",
    "version": 3
   },
   "file_extension": ".py",
   "mimetype": "text/x-python",
   "name": "python",
   "nbconvert_exporter": "python",
   "pygments_lexer": "ipython3",
   "version": "3.7.6"
  }
 },
 "nbformat": 4,
 "nbformat_minor": 4
}
